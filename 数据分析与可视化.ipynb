{
 "cells": [
  {
   "cell_type": "code",
   "execution_count": 1,
   "id": "aa216366",
   "metadata": {},
   "outputs": [],
   "source": [
    "import findspark\n",
    "findspark.init()\n",
    "from pyspark.sql import SparkSession\n",
    "\n",
    "# 初始化并创建spark对象\n",
    "spark = SparkSession.builder.master('local').appName('user_meal').getOrCreate()\n",
    "\n",
    "# 从hdfs中读取数据\n",
    "data = spark.read.format('csv').load('/keshe/user_meal.csv',header=True,encoding='utf-8')\n",
    "# 读取本地数据，参数header=True为使用第一行作为列的名称\n",
    "# data = spark.read.format('csv').load(\"file:///home/hadoop/jupyternotebook/user_meal.csv\",header = True,encoding='gbk')"
   ]
  },
  {
   "cell_type": "code",
   "execution_count": 2,
   "id": "e1f22c3d",
   "metadata": {},
   "outputs": [],
   "source": [
    "# 创建临时表\n",
    "data.createOrReplaceTempView('user')"
   ]
  },
  {
   "cell_type": "code",
   "execution_count": 3,
   "id": "13524bfd",
   "metadata": {},
   "outputs": [
    {
     "name": "stdout",
     "output_type": "stream",
     "text": [
      "+------+-----+\n",
      "|Rating|  num|\n",
      "+------+-----+\n",
      "|     1| 1718|\n",
      "|     2| 1885|\n",
      "|     3| 4475|\n",
      "|     4| 9142|\n",
      "|     5|21025|\n",
      "+------+-----+\n",
      "\n"
     ]
    }
   ],
   "source": [
    "# 分析统计各评分数量\n",
    "rating_num = spark.sql(\"SELECT Rating, COUNT(Rating) AS num FROM user GROUP BY Rating ORDER BY Rating\")\n",
    "rating_num.show()"
   ]
  },
  {
   "cell_type": "code",
   "execution_count": 4,
   "id": "4c22786c",
   "metadata": {},
   "outputs": [
    {
     "name": "stdout",
     "output_type": "stream",
     "text": [
      "+----------+------------------+\n",
      "|    mealID|        avg_rating|\n",
      "+----------+------------------+\n",
      "|B001I8O2MK|               5.0|\n",
      "|B003FGNS9Q|               5.0|\n",
      "|B00627UN0C|               5.0|\n",
      "|B00I9M44E4|               5.0|\n",
      "|B00HUKCIAS|               5.0|\n",
      "|B00AEFSISW|               5.0|\n",
      "|B00CHU542K|               5.0|\n",
      "|B00CD58R6Y|               5.0|\n",
      "|B00FJ04ZWK|               5.0|\n",
      "|B002T33I64|               5.0|\n",
      "|B008CS6WJK|               5.0|\n",
      "|B00BR34W3U|               5.0|\n",
      "|B00332YHLU|               5.0|\n",
      "|B0051HIK04|               5.0|\n",
      "|B00BENM4JC|               5.0|\n",
      "|B009KZYJ62|               5.0|\n",
      "|B004BHGDYK|               5.0|\n",
      "|B00D6MQ6ZM|               5.0|\n",
      "|B007MS58AA|               5.0|\n",
      "|B00AYU5ULA|               5.0|\n",
      "|B00H8XP4W6|               5.0|\n",
      "|B009PNW4LG|               5.0|\n",
      "|B00BOLEKKA|               5.0|\n",
      "|B00A1ZV2KG|               5.0|\n",
      "|B00APE00ZG|               5.0|\n",
      "|B005WGBBS2|               5.0|\n",
      "|B003T0M4U2|               5.0|\n",
      "|B004E2BY8W|               5.0|\n",
      "|B008DR2ACI|               5.0|\n",
      "|B00CE10AP8|               5.0|\n",
      "|B00GCG92J6|               5.0|\n",
      "|B00H294Z2Q|               5.0|\n",
      "|B003AI2E8K|               5.0|\n",
      "|B00CC3CT5W|               5.0|\n",
      "|B000ULZLYY|               5.0|\n",
      "|B00FKQRYTE|               5.0|\n",
      "|B004XUMPRE|               5.0|\n",
      "|B00GP74EX6|               5.0|\n",
      "|B003DZ3AJ2|               5.0|\n",
      "|B00C18VDZ0|               5.0|\n",
      "|B003BYDUPY|               5.0|\n",
      "|B0047L75W4|               5.0|\n",
      "|B004CD4J44|               5.0|\n",
      "|B004AUIJ04|               5.0|\n",
      "|B00EC82O8M|               5.0|\n",
      "|B009L46WWQ|               5.0|\n",
      "|B0083ZLR24|               5.0|\n",
      "|B003QH7E94|               5.0|\n",
      "|B0041GKKNG|               5.0|\n",
      "|B00A954YS0|               5.0|\n",
      "|B00EDG3GQ2|               5.0|\n",
      "|B003336P1Y|               5.0|\n",
      "|B00GMTLB5G|               5.0|\n",
      "|B004BHISOI| 4.944444444444445|\n",
      "|B0036D8LPO|4.9411764705882355|\n",
      "|B00BX3X4IS| 4.923076923076923|\n",
      "|B002KETO0Q| 4.916666666666667|\n",
      "|B000UERE3M| 4.916666666666667|\n",
      "|B004K0HGIU| 4.916666666666667|\n",
      "|B008V6Q8G0| 4.916666666666667|\n",
      "|B00JRSBG9U| 4.909090909090909|\n",
      "|B003AIE43I| 4.909090909090909|\n",
      "|B00FC3K3UW| 4.909090909090909|\n",
      "|B00CZ5P2HY| 4.909090909090909|\n",
      "|B001NJO76U|               4.9|\n",
      "|B00366JI9O|               4.9|\n",
      "|B006FKSSOY|               4.9|\n",
      "|B00D69JGRK|               4.9|\n",
      "|B008O2QERY|               4.9|\n",
      "|B00D6BR9EU|               4.9|\n",
      "|B004BTR8JW|               4.9|\n",
      "|B004BHEC8O|               4.9|\n",
      "|B009ZQ7M7O| 4.888888888888889|\n",
      "|B001G8U0VY| 4.888888888888889|\n",
      "|B00AH8SPOI| 4.888888888888889|\n",
      "|B00KZ7XOKQ| 4.888888888888889|\n",
      "|B00BN4QKU6| 4.888888888888889|\n",
      "|B001GQHV36| 4.888888888888889|\n",
      "|B00C5K6Z48|             4.875|\n",
      "|B00FGN2HZW|             4.875|\n",
      "|B00B09HOGI|             4.875|\n",
      "|B00IS8Q5HS|             4.875|\n",
      "|B00C18NM54|             4.875|\n",
      "|B003QMJJCY|             4.875|\n",
      "|B008GJVAW4|             4.875|\n",
      "|B001ODQA4C| 4.863636363636363|\n",
      "|B007N4BTEW| 4.862068965517241|\n",
      "|B002A493NY| 4.861111111111111|\n",
      "|B00EUME3DO| 4.857142857142857|\n",
      "|B00BI0OB56| 4.857142857142857|\n",
      "|B003YDOYVG| 4.857142857142857|\n",
      "|B00BBVAQME| 4.857142857142857|\n",
      "|B0049AFWKK| 4.857142857142857|\n",
      "|B00FEAY0FM| 4.857142857142857|\n",
      "|B001NJO792| 4.857142857142857|\n",
      "|B00CD4WBMQ| 4.857142857142857|\n",
      "|B00DI2NTK0| 4.857142857142857|\n",
      "|B003UMJTPW| 4.857142857142857|\n",
      "|B00F0O6YEW| 4.857142857142857|\n",
      "|B00AYRIFH4| 4.857142857142857|\n",
      "+----------+------------------+\n",
      "only showing top 100 rows\n",
      "\n"
     ]
    }
   ],
   "source": [
    "# 分析rating和mealID联合起来的每道菜的平均评分\n",
    "\n",
    "from pyspark.sql.functions import avg, col\n",
    "\n",
    "# 假设存在一个名为ratings的DataFrame，包含mealID和rating两列\n",
    "# 按照mealID进行分组，并计算每组的平均评分\n",
    "avg_rating = spark.sql(\"SELECT mealID, AVG(rating) AS avg_rating FROM user GROUP BY mealID ORDER BY avg_rating DESC\")\n",
    "\n",
    "# 打印评分前100结果\n",
    "avg_rating.show(100)"
   ]
  },
  {
   "cell_type": "code",
   "execution_count": 5,
   "id": "aec53e79",
   "metadata": {},
   "outputs": [
    {
     "name": "stdout",
     "output_type": "stream",
     "text": [
      "+----------+----------+\n",
      "|    mealID|sum_rating|\n",
      "+----------+----------+\n",
      "|B00I3MPDP4|    1973.0|\n",
      "|B00APE00H4|    1858.0|\n",
      "|B00DAHSVYC|    1760.0|\n",
      "|B00I3MMN4I|    1541.0|\n",
      "|B00CDBTQCW|    1494.0|\n",
      "|B00B8P8O9K|    1423.0|\n",
      "|B00I3MNGCG|    1401.0|\n",
      "|B009FZFONO|    1308.0|\n",
      "|B006Z48TZS|    1275.0|\n",
      "|B00I3MNVBW|    1245.0|\n",
      "|B004MWZLYC|    1178.0|\n",
      "|B00CDBR1P6|    1133.0|\n",
      "|B005544TRQ|    1108.0|\n",
      "|B008QTTGGG|    1068.0|\n",
      "|B00F87ZUYG|    1028.0|\n",
      "|B00D5OZQUC|     992.0|\n",
      "|B00I3MMTS8|     980.0|\n",
      "|B00DTOYIIE|     976.0|\n",
      "|B00DQISQX6|     893.0|\n",
      "|B008BQ8VOC|     890.0|\n",
      "+----------+----------+\n",
      "only showing top 20 rows\n",
      "\n"
     ]
    }
   ],
   "source": [
    "# 分析统计各菜品累积评分\n",
    "meal_sum = spark.sql(\"SELECT mealID, SUM(rating) AS sum_rating FROM user GROUP BY mealID ORDER BY sum_rating DESC\")\n",
    "meal_sum.show(20)"
   ]
  },
  {
   "cell_type": "code",
   "execution_count": 6,
   "id": "4b27e581",
   "metadata": {},
   "outputs": [
    {
     "name": "stdout",
     "output_type": "stream",
     "text": [
      "+--------------------+-----+\n",
      "|              Review|  num|\n",
      "+--------------------+-----+\n",
      "|太美味了，强烈推荐！|12382|\n",
      "|          简直太赞了| 6234|\n",
      "|        非常非常好吃| 3752|\n",
      "|    很美味，推荐品尝| 3721|\n",
      "|    此味只应天上有！| 2955|\n",
      "|            味道很正| 1911|\n",
      "|        有特色，卫生| 1841|\n",
      "|  尝过之后，不得不赞| 1257|\n",
      "|        有特色，好吃|  835|\n",
      "|              基本OK|  786|\n",
      "+--------------------+-----+\n",
      "only showing top 10 rows\n",
      "\n"
     ]
    }
   ],
   "source": [
    "# 词频统计\n",
    "Review_sum = spark.sql(\"SELECT Review, COUNT(*) AS num FROM user GROUP BY Review ORDER BY num DESC\")\n",
    "Review_sum.show(10)"
   ]
  },
  {
   "cell_type": "code",
   "execution_count": 7,
   "id": "e6c5cdf0",
   "metadata": {},
   "outputs": [
    {
     "name": "stdout",
     "output_type": "stream",
     "text": [
      "+----------+--------------------+-----+\n",
      "|    mealID|              Review|count|\n",
      "+----------+--------------------+-----+\n",
      "|B00APE00H4|太美味了，强烈推荐！|  207|\n",
      "|B009FZFONO|太美味了，强烈推荐！|  150|\n",
      "|B00I3MPDP4|太美味了，强烈推荐！|  129|\n",
      "|B00B8P8O9K|太美味了，强烈推荐！|  118|\n",
      "|B006Z48TZS|太美味了，强烈推荐！|  117|\n",
      "|B004MWZLYC|太美味了，强烈推荐！|  112|\n",
      "|B00DTOYIIE|太美味了，强烈推荐！|  106|\n",
      "|B005544TRQ|太美味了，强烈推荐！|  105|\n",
      "|B00F87ZUYG|太美味了，强烈推荐！|  103|\n",
      "|B00DAHSVYC|太美味了，强烈推荐！|   93|\n",
      "|B008QTTGGG|太美味了，强烈推荐！|   91|\n",
      "|B00I3MNGCG|太美味了，强烈推荐！|   89|\n",
      "|B0099JKR6U|太美味了，强烈推荐！|   88|\n",
      "|B00H7NDSPC|太美味了，强烈推荐！|   86|\n",
      "|B008BQ8VOC|太美味了，强烈推荐！|   85|\n",
      "|B00I3MPDP4|          简直太赞了|   84|\n",
      "|B00CDBTQCW|太美味了，强烈推荐！|   82|\n",
      "|B00DQISQX6|太美味了，强烈推荐！|   80|\n",
      "|B00F0XPJH6|太美味了，强烈推荐！|   75|\n",
      "|B00D5OZQUC|太美味了，强烈推荐！|   73|\n",
      "+----------+--------------------+-----+\n",
      "only showing top 20 rows\n",
      "\n"
     ]
    }
   ],
   "source": [
    "# 使用Spark SQL进行数据查询和处理每道菜出现最多的词\n",
    "result = spark.sql(\"SELECT mealID, Review, COUNT(*) as count FROM user GROUP BY mealID, Review ORDER BY count DESC\")\n",
    "\n",
    "# 输出结果\n",
    "result.show()"
   ]
  },
  {
   "cell_type": "code",
   "execution_count": 8,
   "id": "2b0e0b5e",
   "metadata": {},
   "outputs": [
    {
     "data": {
      "text/plain": [
       "'/home/hadoop/jupyternotebook/keshe/tu/review_rating_pie.html'"
      ]
     },
     "execution_count": 8,
     "metadata": {},
     "output_type": "execute_result"
    }
   ],
   "source": [
    "from pyspark.sql.functions import col\n",
    "from pyecharts import options as opts\n",
    "from pyecharts.charts import Pie\n",
    "\n",
    "# 加载数据并创建DataFrame\n",
    "review = spark.read.csv(\"file:///home/hadoop/jupyternotebook/keshe/user_meal.csv\", header=True, inferSchema=True,encoding='utf-8')\n",
    "\n",
    "# 统计评分数量\n",
    "score_count = review.groupBy(\"Rating\").count().collect()\n",
    "score_dict = {str(x[0]): int(x[1]) for x in score_count}\n",
    "\n",
    "# 对评分数量进行排序\n",
    "sorted_score = sorted(score_dict.items(), key=lambda x: x[1], reverse=False)\n",
    "\n",
    "# 绘制饼图\n",
    "pie = (\n",
    "    Pie()\n",
    "    .add(\"\", [(k, v) for k, v in sorted_score])\n",
    "    .set_colors([\"#FFE4E1\",  \"#D8BFD8\",\"#F5DEB3\", \"#F0E68C\", \"#ADD8E6\"])\n",
    "    .set_global_opts(title_opts=opts.TitleOpts(title=\"评分数量\"), \n",
    "                     legend_opts=opts.LegendOpts(pos_right=\"15%\"))\n",
    "    .set_series_opts(label_opts=opts.LabelOpts(formatter=\"评分：{b},  数量: {c}, 百分比：({d}%)\"))\n",
    ")\n",
    "\n",
    "# 输出饼图\n",
    "pie.render(\"/home/hadoop/jupyternotebook/keshe/tu/review_rating_pie.html\")"
   ]
  },
  {
   "cell_type": "code",
   "execution_count": 19,
   "id": "d1aeefe7",
   "metadata": {},
   "outputs": [
    {
     "data": {
      "text/plain": [
       "'/home/hadoop/jupyternotebook/keshe/tu/avg_rating_bottom20_meals.html'"
      ]
     },
     "execution_count": 19,
     "metadata": {},
     "output_type": "execute_result"
    }
   ],
   "source": [
    "from pyspark.sql.functions import avg\n",
    "from pyspark.sql.functions import count\n",
    "from pyecharts.charts import Bar\n",
    "\n",
    "# 按照菜品ID进行分组并计算平均评分\n",
    "meal_ratings = review.groupBy(\"MealID\").agg(\n",
    "    avg(\"Rating\").alias(\"avg_rating\"),\n",
    "    count(\"ReviewTime\").alias(\"review_count\")\n",
    ")\n",
    "\n",
    "# 按照平均评分进行升序排序并选择前20个菜品\n",
    "bottom_ratings = meal_ratings.orderBy(\"avg_rating\").limit(20)\n",
    "\n",
    "# 创建柱状图实例\n",
    "bar = (\n",
    "    Bar(init_opts=opts.InitOpts(width=\"1200px\", height=\"600px\"))\n",
    "    .add_xaxis([row[\"MealID\"] for row in bottom_ratings.collect()])\n",
    "    .add_yaxis(\"平均评分\", [row[\"avg_rating\"] for row in bottom_ratings.collect()])\n",
    "    .set_global_opts(\n",
    "        title_opts=opts.TitleOpts(title=\"平均评分最低的20个菜品\"),\n",
    "        xaxis_opts=opts.AxisOpts(axislabel_opts=opts.LabelOpts(rotate=-45),name=\"菜品ID\"),\n",
    "        yaxis_opts=opts.AxisOpts(name=\"平均评分\"),\n",
    "        toolbox_opts=opts.ToolboxOpts()\n",
    "    )\n",
    ")\n",
    "\n",
    "# 输出柱状图\n",
    "bar.render(\"/home/hadoop/jupyternotebook/keshe/tu/avg_rating_bottom20_meals.html\")"
   ]
  },
  {
   "cell_type": "code",
   "execution_count": 10,
   "id": "9e5444e3",
   "metadata": {},
   "outputs": [
    {
     "data": {
      "text/plain": [
       "'/home/hadoop/jupyternotebook/keshe/tu/loudou_review.html'"
      ]
     },
     "execution_count": 10,
     "metadata": {},
     "output_type": "execute_result"
    }
   ],
   "source": [
    "from pyecharts.globals import ThemeType\n",
    "from pyecharts.charts import Funnel\n",
    "# 将评价数量的统计表转换\n",
    "review_pd = review.toPandas()\n",
    "# 分组统计评价数量\n",
    "Review_sum1 = review_pd.groupby(['Review']).size() \\\n",
    ".reset_index(name='num').sort_values('num', ascending=False)\n",
    "# 生成漏斗图\n",
    "funnel = Funnel(\n",
    "    init_opts=opts.InitOpts(theme=ThemeType.LIGHT,width=\"1600px\", height=\"700px\")\n",
    ")\n",
    "funnel.add(\"评价数量统计图\", list(zip(Review_sum1['Review'], Review_sum1['num'])))\n",
    "funnel.render('/home/hadoop/jupyternotebook/keshe/tu/loudou_review.html')"
   ]
  },
  {
   "cell_type": "code",
   "execution_count": 11,
   "id": "597cb263",
   "metadata": {},
   "outputs": [
    {
     "data": {
      "text/plain": [
       "'/home/hadoop/jupyternotebook/keshe/tu/review_wordcloud.html'"
      ]
     },
     "execution_count": 11,
     "metadata": {},
     "output_type": "execute_result"
    }
   ],
   "source": [
    "import jieba\n",
    "from pyspark.sql.functions import udf\n",
    "from pyspark.sql.types import StringType\n",
    "from pyecharts import options as opts\n",
    "from pyecharts.charts import WordCloud\n",
    "\n",
    "# 对评价进行分词\n",
    "cut_text_udf = udf(lambda x: \" \".join(jieba.cut(x)), StringType())\n",
    "review_cut = review.select(\"Review\").withColumn(\"cut_text\", cut_text_udf(\"Review\"))\n",
    "\n",
    "# 统计各个词的出现次数\n",
    "word_count = review_cut.rdd.flatMap(lambda x: x[1].split()).map(lambda x: (x, 1)).reduceByKey(lambda a, b: a + b).collect()\n",
    "\n",
    "# 绘制词云图\n",
    "wordcloud = (\n",
    "    WordCloud()\n",
    "    .add(\"\", word_count, word_size_range=[20, 100])\n",
    "    .set_global_opts(title_opts=opts.TitleOpts(title=\"评价词云图\"))\n",
    ")\n",
    "\n",
    "# 输出词云图\n",
    "wordcloud.render(\"/home/hadoop/jupyternotebook/keshe/tu/review_wordcloud.html\")"
   ]
  },
  {
   "cell_type": "code",
   "execution_count": 12,
   "id": "389803d2",
   "metadata": {},
   "outputs": [
    {
     "data": {
      "text/html": [
       "<div>\n",
       "<style scoped>\n",
       "    .dataframe tbody tr th:only-of-type {\n",
       "        vertical-align: middle;\n",
       "    }\n",
       "\n",
       "    .dataframe tbody tr th {\n",
       "        vertical-align: top;\n",
       "    }\n",
       "\n",
       "    .dataframe thead th {\n",
       "        text-align: right;\n",
       "    }\n",
       "</style>\n",
       "<table border=\"1\" class=\"dataframe\">\n",
       "  <thead>\n",
       "    <tr style=\"text-align: right;\">\n",
       "      <th></th>\n",
       "      <th>UserID</th>\n",
       "      <th>Rating</th>\n",
       "      <th>ReviewTime</th>\n",
       "      <th>Review</th>\n",
       "      <th>MealID</th>\n",
       "      <th>province</th>\n",
       "    </tr>\n",
       "  </thead>\n",
       "  <tbody>\n",
       "    <tr>\n",
       "      <th>0</th>\n",
       "      <td>A2A6NH6DPE0VXR</td>\n",
       "      <td>4</td>\n",
       "      <td>1493576000</td>\n",
       "      <td>非常非常好吃</td>\n",
       "      <td>B000W4WD40</td>\n",
       "      <td>新疆省</td>\n",
       "    </tr>\n",
       "    <tr>\n",
       "      <th>1</th>\n",
       "      <td>A1MNDBR7DF0EU9</td>\n",
       "      <td>5</td>\n",
       "      <td>1493576000</td>\n",
       "      <td>太美味了，强烈推荐！</td>\n",
       "      <td>B002BLCNHY</td>\n",
       "      <td>江苏省</td>\n",
       "    </tr>\n",
       "    <tr>\n",
       "      <th>2</th>\n",
       "      <td>AT1BYQVGK7U71</td>\n",
       "      <td>5</td>\n",
       "      <td>1493576000</td>\n",
       "      <td>简直太赞了</td>\n",
       "      <td>B001SE07JG</td>\n",
       "      <td>广西省</td>\n",
       "    </tr>\n",
       "    <tr>\n",
       "      <th>3</th>\n",
       "      <td>A328S9RN3U5M68</td>\n",
       "      <td>3</td>\n",
       "      <td>1493576000</td>\n",
       "      <td>味道很正</td>\n",
       "      <td>B001PN63PC</td>\n",
       "      <td>四川省</td>\n",
       "    </tr>\n",
       "    <tr>\n",
       "      <th>4</th>\n",
       "      <td>A16H208JVRTMU4</td>\n",
       "      <td>5</td>\n",
       "      <td>1493576000</td>\n",
       "      <td>太美味了，强烈推荐！</td>\n",
       "      <td>B000WT7R6O</td>\n",
       "      <td>浙江省</td>\n",
       "    </tr>\n",
       "    <tr>\n",
       "      <th>5</th>\n",
       "      <td>ATDNMB4EB7ZY4</td>\n",
       "      <td>2</td>\n",
       "      <td>1493576000</td>\n",
       "      <td>有特色，好吃</td>\n",
       "      <td>B000NHRTAO</td>\n",
       "      <td>吉林省</td>\n",
       "    </tr>\n",
       "    <tr>\n",
       "      <th>6</th>\n",
       "      <td>A3VNYHAEKTHVPY</td>\n",
       "      <td>3</td>\n",
       "      <td>1493577600</td>\n",
       "      <td>非常非常好吃</td>\n",
       "      <td>B005GT575S</td>\n",
       "      <td>山东省</td>\n",
       "    </tr>\n",
       "    <tr>\n",
       "      <th>7</th>\n",
       "      <td>A13MM7UES60AAU</td>\n",
       "      <td>5</td>\n",
       "      <td>1493592000</td>\n",
       "      <td>太美味了，强烈推荐！</td>\n",
       "      <td>B008X0SGDC</td>\n",
       "      <td>江苏省</td>\n",
       "    </tr>\n",
       "    <tr>\n",
       "      <th>8</th>\n",
       "      <td>A3TNYNA2360NPA</td>\n",
       "      <td>5</td>\n",
       "      <td>1493592000</td>\n",
       "      <td>太美味了，强烈推荐！</td>\n",
       "      <td>B008QTTGGG</td>\n",
       "      <td>新疆省</td>\n",
       "    </tr>\n",
       "    <tr>\n",
       "      <th>9</th>\n",
       "      <td>A206S2JFUZ5WT1</td>\n",
       "      <td>5</td>\n",
       "      <td>1493592000</td>\n",
       "      <td>太美味了，强烈推荐！</td>\n",
       "      <td>B008O2QERY</td>\n",
       "      <td>湖北省</td>\n",
       "    </tr>\n",
       "  </tbody>\n",
       "</table>\n",
       "</div>"
      ],
      "text/plain": [
       "           UserID  Rating  ReviewTime      Review      MealID province\n",
       "0  A2A6NH6DPE0VXR       4  1493576000      非常非常好吃  B000W4WD40      新疆省\n",
       "1  A1MNDBR7DF0EU9       5  1493576000  太美味了，强烈推荐！  B002BLCNHY      江苏省\n",
       "2   AT1BYQVGK7U71       5  1493576000       简直太赞了  B001SE07JG      广西省\n",
       "3  A328S9RN3U5M68       3  1493576000        味道很正  B001PN63PC      四川省\n",
       "4  A16H208JVRTMU4       5  1493576000  太美味了，强烈推荐！  B000WT7R6O      浙江省\n",
       "5   ATDNMB4EB7ZY4       2  1493576000      有特色，好吃  B000NHRTAO      吉林省\n",
       "6  A3VNYHAEKTHVPY       3  1493577600      非常非常好吃  B005GT575S      山东省\n",
       "7  A13MM7UES60AAU       5  1493592000  太美味了，强烈推荐！  B008X0SGDC      江苏省\n",
       "8  A3TNYNA2360NPA       5  1493592000  太美味了，强烈推荐！  B008QTTGGG      新疆省\n",
       "9  A206S2JFUZ5WT1       5  1493592000  太美味了，强烈推荐！  B008O2QERY      湖北省"
      ]
     },
     "execution_count": 12,
     "metadata": {},
     "output_type": "execute_result"
    }
   ],
   "source": [
    "import random\n",
    "province_dict = {\n",
    "    1:'北京省',2:'天津省',3:'河北省',4:'山西省',5:'内蒙古省',6:'辽宁省',7:'吉林省',8:'黑龙江省',\n",
    "    9:'上海省',10:'江苏省',11:'浙江省',12:'安徽省',13:'福建省',14:'江西省',15:'山东省',16:'河南省',\n",
    "    17:'湖北省',18:'湖南省',19:'广东省',20:'广西省',21:'海南省',22:'四川省',23:'贵州省',\n",
    "    24:'云南省',25:'广西省',26:'西藏省',27:'陕西省',28:'甘肃省',29:'青海省',30:'宁夏省',\n",
    "    31:'新疆省',32:'台湾省'\n",
    "   \n",
    "}\n",
    "province = []\n",
    "for x in range(len(review_pd)):\n",
    "    province.append(province_dict[random.randint(1,32)])\n",
    "review_pd['province'] = province\n",
    "review_pd.head(10)"
   ]
  },
  {
   "cell_type": "code",
   "execution_count": 13,
   "id": "7a2eaff7",
   "metadata": {},
   "outputs": [
    {
     "data": {
      "text/plain": [
       "'/home/hadoop/jupyternotebook/keshe/tu/user_rating_province.html'"
      ]
     },
     "execution_count": 13,
     "metadata": {},
     "output_type": "execute_result"
    }
   ],
   "source": [
    "# 绘制地图\n",
    "review_pd1 = review_pd.groupby(['province']).size() \\\n",
    ".reset_index(name='Rating').sort_values('Rating', ascending=False)\n",
    "\n",
    "from pyecharts.charts import Map\n",
    "user_rating_province = Map()\n",
    "user_rating_province.add(\"\", list(zip(review_pd1['province'],review_pd1['Rating'])), \"china\")\n",
    "user_rating_province.set_global_opts(\n",
    "    title_opts=opts.TitleOpts(title=\"用户评分地域分布图\"),\n",
    "    visualmap_opts=opts.VisualMapOpts(min_=0, max_=1500, is_piecewise=True),\n",
    ")\n",
    "user_rating_province.render(\"/home/hadoop/jupyternotebook/keshe/tu/user_rating_province.html\")"
   ]
  },
  {
   "cell_type": "code",
   "execution_count": 33,
   "id": "55958a89",
   "metadata": {},
   "outputs": [],
   "source": [
    "import pymysql\n",
    "# 将可视化结果存入mysql数据库\n",
    "paths = [\n",
    "    (1,'/home/hadoop/jupyternotebook/keshe/tu/review_rating_pie.html'),\n",
    "    (2,'/home/hadoop/jupyternotebook/keshe/tu/avg_rating_bottom20_meals.html'), \n",
    "    (3,'/home/hadoop/jupyternotebook/keshe/tu/loudou_review.html'),\n",
    "    (4,'/home/hadoop/jupyternotebook/keshe/tu/user_rating_province.html')\n",
    "]\n",
    "insert_sql = \"INSERT INTO path(path_id,url) VALUES (%s, %s)\"\n",
    "# 创建MySQL数据库连接\n",
    "conn = pymysql.connect(\n",
    "    host=\"localhost\",\n",
    "    user=\"root\",\n",
    "    passwd=\"fsd009750\",\n",
    "    port=3306,\n",
    "    db=\"spark\",\n",
    "    charset=\"utf8mb4\"\n",
    ")\n",
    "#print(conn)\n",
    "# 创建游标\n",
    "cursor = conn.cursor()\n",
    "#执行插入多条记录的操作\n",
    "cursor.executemany(insert_sql, paths)\n",
    "conn.commit()\n",
    "# 关闭数据库连接\n",
    "conn.close()"
   ]
  },
  {
   "cell_type": "code",
   "execution_count": null,
   "id": "2d7908f3",
   "metadata": {},
   "outputs": [],
   "source": [
    "#spark.stop()"
   ]
  }
 ],
 "metadata": {
  "kernelspec": {
   "display_name": "Python 3",
   "language": "python",
   "name": "python3"
  },
  "language_info": {
   "codemirror_mode": {
    "name": "ipython",
    "version": 3
   },
   "file_extension": ".py",
   "mimetype": "text/x-python",
   "name": "python",
   "nbconvert_exporter": "python",
   "pygments_lexer": "ipython3",
   "version": "3.8.8"
  }
 },
 "nbformat": 4,
 "nbformat_minor": 5
}
