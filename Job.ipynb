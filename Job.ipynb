{
 "cells": [
  {
   "cell_type": "code",
   "execution_count": 1,
   "id": "48323abc",
   "metadata": {},
   "outputs": [
    {
     "data": {
      "text/html": [
       "<div>\n",
       "<style scoped>\n",
       "    .dataframe tbody tr th:only-of-type {\n",
       "        vertical-align: middle;\n",
       "    }\n",
       "\n",
       "    .dataframe tbody tr th {\n",
       "        vertical-align: top;\n",
       "    }\n",
       "\n",
       "    .dataframe thead th {\n",
       "        text-align: right;\n",
       "    }\n",
       "</style>\n",
       "<table border=\"1\" class=\"dataframe\">\n",
       "  <thead>\n",
       "    <tr style=\"text-align: right;\">\n",
       "      <th></th>\n",
       "      <th>UserID</th>\n",
       "      <th>Rating</th>\n",
       "      <th>ReviewTime</th>\n",
       "      <th>Review</th>\n",
       "      <th>MealID</th>\n",
       "    </tr>\n",
       "  </thead>\n",
       "  <tbody>\n",
       "    <tr>\n",
       "      <th>0</th>\n",
       "      <td>A2WOH395IHGS0T</td>\n",
       "      <td>5</td>\n",
       "      <td>1496177056</td>\n",
       "      <td>风味独特，真的不错！</td>\n",
       "      <td>B0040HNZTW</td>\n",
       "    </tr>\n",
       "    <tr>\n",
       "      <th>1</th>\n",
       "      <td>A32KHS0VN0N0HB</td>\n",
       "      <td>3</td>\n",
       "      <td>1496177108</td>\n",
       "      <td>有特色，也比较卫生</td>\n",
       "      <td>B006Z48TZS</td>\n",
       "    </tr>\n",
       "    <tr>\n",
       "      <th>2</th>\n",
       "      <td>A1YQ4Z5U9NIGP</td>\n",
       "      <td>5</td>\n",
       "      <td>1496177276</td>\n",
       "      <td>家常美味，推荐！</td>\n",
       "      <td>B00CDBTQCW</td>\n",
       "    </tr>\n",
       "    <tr>\n",
       "      <th>3</th>\n",
       "      <td>A3E5V5TSTAY3R9</td>\n",
       "      <td>4</td>\n",
       "      <td>1496179256</td>\n",
       "      <td>好吃</td>\n",
       "      <td>B00751IYQ4</td>\n",
       "    </tr>\n",
       "    <tr>\n",
       "      <th>4</th>\n",
       "      <td>A1V50CTTDJ73ZM</td>\n",
       "      <td>5</td>\n",
       "      <td>1496180009</td>\n",
       "      <td>不得不赞</td>\n",
       "      <td>B00C0OLT6S</td>\n",
       "    </tr>\n",
       "    <tr>\n",
       "      <th>...</th>\n",
       "      <td>...</td>\n",
       "      <td>...</td>\n",
       "      <td>...</td>\n",
       "      <td>...</td>\n",
       "      <td>...</td>\n",
       "    </tr>\n",
       "    <tr>\n",
       "      <th>38379</th>\n",
       "      <td>A3UDYY6L2NH3JS</td>\n",
       "      <td>5</td>\n",
       "      <td>1498760000</td>\n",
       "      <td>好吃又划算</td>\n",
       "      <td>B000JO9JHW</td>\n",
       "    </tr>\n",
       "    <tr>\n",
       "      <th>38380</th>\n",
       "      <td>A3A4WQL80WOTMH</td>\n",
       "      <td>5</td>\n",
       "      <td>1498760000</td>\n",
       "      <td>家常味道</td>\n",
       "      <td>B002C4Y3DC</td>\n",
       "    </tr>\n",
       "    <tr>\n",
       "      <th>38381</th>\n",
       "      <td>A1VF5LN6SHFVFJ</td>\n",
       "      <td>5</td>\n",
       "      <td>1498760000</td>\n",
       "      <td>同事们都很喜欢</td>\n",
       "      <td>B000JO9JHW</td>\n",
       "    </tr>\n",
       "    <tr>\n",
       "      <th>38382</th>\n",
       "      <td>AIETV2MBRE5E2</td>\n",
       "      <td>4</td>\n",
       "      <td>1498761601</td>\n",
       "      <td>美味，推荐！</td>\n",
       "      <td>B00FDWGMIE</td>\n",
       "    </tr>\n",
       "    <tr>\n",
       "      <th>38383</th>\n",
       "      <td>AGODHOIFUGSLS</td>\n",
       "      <td>4</td>\n",
       "      <td>1498761812</td>\n",
       "      <td>真得不错！</td>\n",
       "      <td>B007UXSDT0</td>\n",
       "    </tr>\n",
       "  </tbody>\n",
       "</table>\n",
       "<p>38384 rows × 5 columns</p>\n",
       "</div>"
      ],
      "text/plain": [
       "               UserID  Rating  ReviewTime      Review      MealID\n",
       "0      A2WOH395IHGS0T       5  1496177056  风味独特，真的不错！  B0040HNZTW\n",
       "1      A32KHS0VN0N0HB       3  1496177108   有特色，也比较卫生  B006Z48TZS\n",
       "2       A1YQ4Z5U9NIGP       5  1496177276    家常美味，推荐！  B00CDBTQCW\n",
       "3      A3E5V5TSTAY3R9       4  1496179256          好吃  B00751IYQ4\n",
       "4      A1V50CTTDJ73ZM       5  1496180009        不得不赞  B00C0OLT6S\n",
       "...               ...     ...         ...         ...         ...\n",
       "38379  A3UDYY6L2NH3JS       5  1498760000       好吃又划算  B000JO9JHW\n",
       "38380  A3A4WQL80WOTMH       5  1498760000        家常味道  B002C4Y3DC\n",
       "38381  A1VF5LN6SHFVFJ       5  1498760000     同事们都很喜欢  B000JO9JHW\n",
       "38382   AIETV2MBRE5E2       4  1498761601      美味，推荐！  B00FDWGMIE\n",
       "38383   AGODHOIFUGSLS       4  1498761812       真得不错！  B007UXSDT0\n",
       "\n",
       "[38384 rows x 5 columns]"
      ]
     },
     "execution_count": 1,
     "metadata": {},
     "output_type": "execute_result"
    }
   ],
   "source": [
    "#导入pandas库\n",
    "import pandas as pd\n",
    "\n",
    "#读取数据集\n",
    "data = pd.read_csv('user_meal_rating.csv')\n",
    "data"
   ]
  },
  {
   "cell_type": "code",
   "execution_count": 2,
   "id": "e9bb055a",
   "metadata": {},
   "outputs": [
    {
     "data": {
      "text/plain": [
       "UserID        0\n",
       "Rating        0\n",
       "ReviewTime    0\n",
       "Review        0\n",
       "MealID        0\n",
       "dtype: int64"
      ]
     },
     "execution_count": 2,
     "metadata": {},
     "output_type": "execute_result"
    }
   ],
   "source": [
    "#查看缺失值\n",
    "data.isnull().sum()"
   ]
  },
  {
   "cell_type": "code",
   "execution_count": 3,
   "id": "baba0f4d",
   "metadata": {},
   "outputs": [
    {
     "data": {
      "text/plain": [
       "0"
      ]
     },
     "execution_count": 3,
     "metadata": {},
     "output_type": "execute_result"
    }
   ],
   "source": [
    "#查看重复值\n",
    "data.duplicated().sum()"
   ]
  },
  {
   "cell_type": "code",
   "execution_count": 4,
   "id": "a4b02b50",
   "metadata": {},
   "outputs": [
    {
     "name": "stderr",
     "output_type": "stream",
     "text": [
      "23/06/21 19:38:56 WARN NativeCodeLoader: Unable to load native-hadoop library for your platform... using builtin-java classes where applicable\n",
      "                                                                                \r"
     ]
    },
    {
     "name": "stdout",
     "output_type": "stream",
     "text": [
      "+--------------+------+----------+--------------------+----------+\n",
      "|        UserID|Rating|ReviewTime|              Review|    MealID|\n",
      "+--------------+------+----------+--------------------+----------+\n",
      "|A2WOH395IHGS0T|     5|1496177056|风味独特，真的不错！|B0040HNZTW|\n",
      "|A32KHS0VN0N0HB|     3|1496177108|  有特色，也比较卫生|B006Z48TZS|\n",
      "| A1YQ4Z5U9NIGP|     5|1496177276|    家常美味，推荐！|B00CDBTQCW|\n",
      "|A3E5V5TSTAY3R9|     4|1496179256|                好吃|B00751IYQ4|\n",
      "|A1V50CTTDJ73ZM|     5|1496180009|            不得不赞|B00C0OLT6S|\n",
      "|A3GD8QRS50A6OB|     5|1496180056|    每周必点的一道菜|B006WC63X8|\n",
      "| AK6G2ZYJVQ42D|     5|1496180098|      同事们都很喜欢|B0099JKR6U|\n",
      "|A2FPYIU94BNC73|     5|1496182040|            性价比高|B0087YNHNI|\n",
      "|A2WOH395IHGS0T|     5|1496183065|              有惊喜|B002A493NY|\n",
      "| AM0LNXVIXZKKW|     3|1496184000|            味道一般|B002KGEORM|\n",
      "|A1VOJC5KLSOWGY|     5|1496184000|太美味了，强烈推荐！|B0045TGRSG|\n",
      "|A2FPYIU94BNC73|     3|1496184000|            味道很正|B0073J5X58|\n",
      "| AMXJDVI60YD39|     5|1496184000|太美味了，强烈推荐！|B006Z48TZS|\n",
      "|A33T3FTA07CBJW|     4|1496184000|        非常非常好吃|B0071E6J30|\n",
      "|A37FUJC2L7DSPT|     5|1496184000|太美味了，强烈推荐！|B00FWLG2MM|\n",
      "|A1GH5XCC5D4VY9|     5|1496184000|太美味了，强烈推荐！|B007JF83YY|\n",
      "|A3GUNEINK3GRDV|     5|1496184000|太美味了，强烈推荐！|B007JF83YY|\n",
      "| A79TS2VPN9DWV|     5|1496184000|太美味了，强烈推荐！|B007JF83YY|\n",
      "| ALGUXW3P7JEL9|     4|1496184000|        非常非常好吃|B007VQLRGW|\n",
      "|A1V50CTTDJ73ZM|     5|1496184000|太美味了，强烈推荐！|B008QTTGGG|\n",
      "+--------------+------+----------+--------------------+----------+\n",
      "only showing top 20 rows\n",
      "\n"
     ]
    }
   ],
   "source": [
    "import findspark\n",
    "findspark.init()\n",
    "from pyspark import SparkContext,SparkConf\n",
    "from pyspark.sql import SparkSession\n",
    "\n",
    "#初始化并创建spark对象\n",
    "conf = SparkConf().setMaster('local').setAppName('user_meal_data')\n",
    "spark = SparkSession(SparkContext(conf = conf))\n",
    "\n",
    "#读取HDFS上的数据，参数header=True为使用第一行作为列的名称\n",
    "data = spark.read.format('csv').load(\"/user_meal_data/user_meal_rating.csv\",header=True)\n",
    "data.show()"
   ]
  },
  {
   "cell_type": "code",
   "execution_count": null,
   "id": "15b163a5",
   "metadata": {},
   "outputs": [],
   "source": []
  },
  {
   "cell_type": "code",
   "execution_count": 5,
   "id": "0278fd49",
   "metadata": {},
   "outputs": [
    {
     "name": "stderr",
     "output_type": "stream",
     "text": [
      "[Stage 3:============================================>          (162 + 1) / 200]\r"
     ]
    },
    {
     "name": "stdout",
     "output_type": "stream",
     "text": [
      "+------+-----+\n",
      "|Rating|  num|\n",
      "+------+-----+\n",
      "|     1| 1782|\n",
      "|     2| 1960|\n",
      "|     3| 4475|\n",
      "|     4| 9142|\n",
      "|     5|21025|\n",
      "+------+-----+\n",
      "\n"
     ]
    },
    {
     "name": "stderr",
     "output_type": "stream",
     "text": [
      "\r",
      "[Stage 3:==================================================>    (185 + 1) / 200]\r",
      "\r",
      "                                                                                \r"
     ]
    }
   ],
   "source": [
    "#创建临时表user_rating_data\n",
    "data.createOrReplaceTempView('user_meal_rating')\n",
    "\n",
    "#Rating字段（用户评分）统计\n",
    "Rating_stat = spark.sql('select Rating,count(Rating) as num from user_meal_rating group by Rating order by Rating')\n",
    "Rating_stat.show()"
   ]
  },
  {
   "cell_type": "code",
   "execution_count": null,
   "id": "8ca1c300",
   "metadata": {},
   "outputs": [],
   "source": []
  },
  {
   "cell_type": "code",
   "execution_count": 35,
   "id": "e95d91fa",
   "metadata": {},
   "outputs": [
    {
     "name": "stderr",
     "output_type": "stream",
     "text": [
      "[Stage 920:========================================>            (151 + 1) / 200]\r"
     ]
    },
    {
     "name": "stdout",
     "output_type": "stream",
     "text": [
      "+----------+----------------+\n",
      "|    MealID|CumulativeRating|\n",
      "+----------+----------------+\n",
      "|B00CD58R6Y|             5.0|\n",
      "|B00HUKCIAS|             5.0|\n",
      "|B00CHU542K|             5.0|\n",
      "|B00GP74EX6|             5.0|\n",
      "|B00I9M44E4|             5.0|\n",
      "|B00AEFSISW|             5.0|\n",
      "|B00EDG3GQ2|             5.0|\n",
      "|B00APE00ZG|             5.0|\n",
      "|B001I8O2MK|             5.0|\n",
      "|B00627UN0C|             5.0|\n",
      "+----------+----------------+\n",
      "only showing top 10 rows\n",
      "\n"
     ]
    },
    {
     "name": "stderr",
     "output_type": "stream",
     "text": [
      "\r",
      "[Stage 920:===================================================> (194 + 2) / 200]\r",
      "\r",
      "                                                                                \r"
     ]
    }
   ],
   "source": [
    "#各菜品Rating字段（用户评分）统计\n",
    "from pyspark.sql.functions import avg\n",
    "#计算累积评分：使用Spark SQL的聚合函数计算每个菜品的平均评分。\n",
    "cumulative_ratings = data.groupBy(\"MealID\").agg(round(avg(\"Rating\"),1).alias(\"CumulativeRating\"))\n",
    "#排序结果：按照累积评分对菜品进行排序。\n",
    "sorted_cumulative_ratings = cumulative_ratings.orderBy(\"CumulativeRating\", ascending=False)\n",
    "#显示结果：显示排序后的结果。\n",
    "sorted_cumulative_ratings.show(10)"
   ]
  },
  {
   "cell_type": "code",
   "execution_count": null,
   "id": "c58057c5",
   "metadata": {},
   "outputs": [],
   "source": []
  },
  {
   "cell_type": "code",
   "execution_count": 8,
   "id": "874a1536",
   "metadata": {},
   "outputs": [
    {
     "name": "stderr",
     "output_type": "stream",
     "text": [
      "[Stage 9:===========================================>           (159 + 1) / 200]\r"
     ]
    },
    {
     "name": "stdout",
     "output_type": "stream",
     "text": [
      "+--------------------+-----+\n",
      "|              Review|  num|\n",
      "+--------------------+-----+\n",
      "|太美味了，强烈推荐！|12382|\n",
      "|          简直太赞了| 6234|\n",
      "|        非常非常好吃| 3752|\n",
      "|    很美味，推荐品尝| 3721|\n",
      "|    此味只应天上有！| 2955|\n",
      "|            味道很正| 1911|\n",
      "|        有特色，卫生| 1841|\n",
      "|  尝过之后，不得不赞| 1257|\n",
      "|        有特色，好吃|  873|\n",
      "|              基本OK|  817|\n",
      "+--------------------+-----+\n",
      "only showing top 10 rows\n",
      "\n"
     ]
    },
    {
     "name": "stderr",
     "output_type": "stream",
     "text": [
      "\r",
      "[Stage 9:===================================================>   (189 + 1) / 200]\r",
      "\r",
      "                                                                                \r"
     ]
    }
   ],
   "source": [
    "#评论(Review)词频统计\n",
    "Review_stat = spark.sql('select Review,count(Review) as num from user_meal_rating group by Review order by num desc')\n",
    "Review_stat.show(10)"
   ]
  },
  {
   "cell_type": "code",
   "execution_count": 9,
   "id": "2e2f6297",
   "metadata": {},
   "outputs": [
    {
     "name": "stdout",
     "output_type": "stream",
     "text": [
      "+--------------+----------+------+\n",
      "|        UserID|    MealID|Rating|\n",
      "+--------------+----------+------+\n",
      "|A2WOH395IHGS0T|B0040HNZTW|     5|\n",
      "|A32KHS0VN0N0HB|B006Z48TZS|     3|\n",
      "| A1YQ4Z5U9NIGP|B00CDBTQCW|     5|\n",
      "|A3E5V5TSTAY3R9|B00751IYQ4|     4|\n",
      "|A1V50CTTDJ73ZM|B00C0OLT6S|     5|\n",
      "|A3GD8QRS50A6OB|B006WC63X8|     5|\n",
      "| AK6G2ZYJVQ42D|B0099JKR6U|     5|\n",
      "|A2FPYIU94BNC73|B0087YNHNI|     5|\n",
      "|A2WOH395IHGS0T|B002A493NY|     5|\n",
      "| AM0LNXVIXZKKW|B002KGEORM|     3|\n",
      "+--------------+----------+------+\n",
      "only showing top 10 rows\n",
      "\n"
     ]
    }
   ],
   "source": [
    "import findspark\n",
    "findspark.init()\n",
    "from pyspark.sql import SparkSession\n",
    "from pyspark.ml.evaluation import RegressionEvaluator\n",
    "from pyspark.ml.recommendation import ALS\n",
    "\n",
    "spark = SparkSession.builder.master('local').appName('user_meal_data').getOrCreate()\n",
    "#读取HDFS数据\n",
    "data = spark.read.format('csv').load(\"/user_meal_data/user_meal_rating.csv\",header=True)\n",
    "#修改字段结构类型\n",
    "data = data.select('UserID','MealID','Rating')\n",
    "\n",
    "data.show(10)"
   ]
  },
  {
   "cell_type": "code",
   "execution_count": 10,
   "id": "a534c65c",
   "metadata": {},
   "outputs": [
    {
     "name": "stderr",
     "output_type": "stream",
     "text": [
      "                                                                                \r"
     ]
    },
    {
     "name": "stdout",
     "output_type": "stream",
     "text": [
      "+--------------+----------+------+------------+------------+\n",
      "|        UserID|    MealID|Rating|MealID_Index|UserID_Index|\n",
      "+--------------+----------+------+------------+------------+\n",
      "|A2WOH395IHGS0T|B0040HNZTW|     5|        57.0|      2749.0|\n",
      "|A32KHS0VN0N0HB|B006Z48TZS|     3|        11.0|      4327.0|\n",
      "| A1YQ4Z5U9NIGP|B00CDBTQCW|     5|         4.0|      2472.0|\n",
      "|A3E5V5TSTAY3R9|B00751IYQ4|     4|       557.0|      2886.0|\n",
      "|A1V50CTTDJ73ZM|B00C0OLT6S|     5|        28.0|      1161.0|\n",
      "|A3GD8QRS50A6OB|B006WC63X8|     5|       888.0|       713.0|\n",
      "| AK6G2ZYJVQ42D|B0099JKR6U|     5|        24.0|      4918.0|\n",
      "|A2FPYIU94BNC73|B0087YNHNI|     5|       177.0|      1224.0|\n",
      "|A2WOH395IHGS0T|B002A493NY|     5|       240.0|      2749.0|\n",
      "| AM0LNXVIXZKKW|B002KGEORM|     3|       121.0|      4948.0|\n",
      "+--------------+----------+------+------------+------------+\n",
      "only showing top 10 rows\n",
      "\n"
     ]
    }
   ],
   "source": [
    "#特征转换\n",
    "from pyspark.ml.feature import StringIndexer\n",
    "indexer = StringIndexer(inputCols=[\"MealID\",\"UserID\"],outputCols=[\"MealID_Index\",\"UserID_Index\"])\n",
    "data_index = indexer.fit(data).transform(data)\n",
    "data_index.show(10)"
   ]
  },
  {
   "cell_type": "code",
   "execution_count": 12,
   "id": "b382ce5a",
   "metadata": {},
   "outputs": [
    {
     "name": "stderr",
     "output_type": "stream",
     "text": [
      "                                                                                \r"
     ]
    }
   ],
   "source": [
    "from pyspark.ml.recommendation import ALS\n",
    "#字段类型转换，因为ALS模型只支持int或float\n",
    "data_als = data_index.selectExpr(\n",
    "    \"cast(MealID_Index as int) MealID_Index\",\n",
    "    \"cast(UserID_Index as int) UserID_Index\",\n",
    "    \"cast(Rating as float) Rating\"\n",
    ")\n",
    "\n",
    "#拆分数据集\n",
    "training,test = data_als.randomSplit([0.8,0.2])\n",
    "\n",
    "#构建ALS模型，将冷启动策略设置为“下降”（coldStartStrategy=\"drop\"),以确保我们不会获得NaN评估指标\n",
    "als = ALS(maxIter=5, regParam=0.01,userCol='UserID_Index',\\\n",
    "          itemCol='MealID_Index',ratingCol='Rating',coldStartStrategy=\"drop\")\n",
    "\n",
    "#训练模型\n",
    "model = als.fit(training)"
   ]
  },
  {
   "cell_type": "code",
   "execution_count": 13,
   "id": "1b55f8d6",
   "metadata": {},
   "outputs": [
    {
     "name": "stderr",
     "output_type": "stream",
     "text": [
      "[Stage 100:====================================================>(198 + 1) / 200]\r"
     ]
    },
    {
     "name": "stdout",
     "output_type": "stream",
     "text": [
      "均方根误差=5.814012636953366\n"
     ]
    },
    {
     "name": "stderr",
     "output_type": "stream",
     "text": [
      "\r",
      "                                                                                \r"
     ]
    }
   ],
   "source": [
    "from pyspark.ml.evaluation import RegressionEvaluator\n",
    "# 评估模型\n",
    "predictions = model.transform(test)\n",
    "evaluator = RegressionEvaluator(metricName='rmse',labelCol='Rating',predictionCol='prediction')\n",
    "rmse = evaluator.evaluate(predictions)\n",
    "print('均方根误差='+str(rmse))"
   ]
  },
  {
   "cell_type": "code",
   "execution_count": 24,
   "id": "99fb4be7",
   "metadata": {},
   "outputs": [
    {
     "name": "stderr",
     "output_type": "stream",
     "text": [
      "                                                                                \r"
     ]
    },
    {
     "name": "stdout",
     "output_type": "stream",
     "text": [
      "+------------+--------------------+\n",
      "|UserID_Index|            recommed|\n",
      "+------------+--------------------+\n",
      "|        1580|{537, 18.91238212...|\n",
      "|        1580|{527, 17.69466209...|\n",
      "|        1580|{207, 16.76772880...|\n",
      "|        1580|{269, 16.72339248...|\n",
      "|        1580|{272, 16.44668388...|\n",
      "|        1580|{615, 16.29764366...|\n",
      "|        1580|{917, 15.80331039...|\n",
      "|        1580|{794, 15.69475650...|\n",
      "|        1580|{1458, 15.4965381...|\n",
      "|        1580|{660, 15.44904994...|\n",
      "|        4900|{1221, 20.7506217...|\n",
      "|        4900|{309, 19.55834197...|\n",
      "|        4900|{1411, 17.3811035...|\n",
      "|        4900|{601, 16.44636917...|\n",
      "|        4900|{276, 16.39932250...|\n",
      "|        4900|{702, 15.91857624...|\n",
      "|        4900|{860, 15.85458564...|\n",
      "|        4900|{301, 15.67586898...|\n",
      "|        4900|{799, 15.66829776...|\n",
      "|        4900|{580, 15.61127281...|\n",
      "+------------+--------------------+\n",
      "only showing top 20 rows\n",
      "\n"
     ]
    }
   ],
   "source": [
    "from pyspark.sql.functions import *\n",
    "from pyspark.sql.types import *\n",
    "\n",
    "#为每个用户生成十大菜品推荐\n",
    "userRecs = model.recommendForAllUsers(10)\n",
    "#结果转换\n",
    "flatUserRecs = userRecs.rdd.flatMapValues(lambda p: p)\n",
    "#转换后的结果放在DataFrame中\n",
    "userRecs_res = spark.createDataFrame(flatUserRecs)\n",
    "#字段名称重命名\n",
    "userRecs_res = userRecs_res.selectExpr(\"cast(_1 as int) UserID_Index\",\n",
    "                                       \"cast(_2 as String) recommed\")\n",
    "# 将生成的推荐数据保存到本地\n",
    "userRecs_res.toPandas().to_csv('user10_recommend.csv',index=False,header=None)\n",
    "userRecs_res.show()"
   ]
  },
  {
   "cell_type": "code",
   "execution_count": 18,
   "id": "86ceb671",
   "metadata": {},
   "outputs": [
    {
     "name": "stderr",
     "output_type": "stream",
     "text": [
      "                                                                                \r"
     ]
    },
    {
     "name": "stdout",
     "output_type": "stream",
     "text": [
      "+------------+--------------------+\n",
      "|MealID_index|           recommend|\n",
      "+------------+--------------------+\n",
      "|        1580|{220, 22.22053337...|\n",
      "|        1580|{270, 19.96629142...|\n",
      "|        1580|{1280, 18.4714012...|\n",
      "|        1580|{3229, 18.1163330...|\n",
      "|        1580|{288, 17.92160606...|\n",
      "|        1580|{957, 17.63733291...|\n",
      "|        1580|{661, 15.98784732...|\n",
      "|        1580|{4096, 15.0822772...|\n",
      "|        1580|{345, 15.07214260...|\n",
      "|        1580|{3800, 14.9995050...|\n",
      "|         471|{599, 33.70029449...|\n",
      "|         471|{147, 30.67490005...|\n",
      "|         471|{175, 27.57756805...|\n",
      "|         471|{5071, 27.4481430...|\n",
      "|         471|{83, 26.758817672...|\n",
      "|         471|{464, 26.51372528...|\n",
      "|         471|{545, 26.41010093...|\n",
      "|         471|{257, 26.14504241...|\n",
      "|         471|{830, 26.03369140...|\n",
      "|         471|{3800, 23.9905776...|\n",
      "+------------+--------------------+\n",
      "only showing top 20 rows\n",
      "\n"
     ]
    }
   ],
   "source": [
    "# 为每个菜品生成十大用户推荐\n",
    "mealRecs = model.recommendForAllItems(10)\n",
    "# mealRecs.show()\n",
    "# 结果转换\n",
    "flatMealRecs = mealRecs.rdd.flatMapValues(lambda p : p)\n",
    "mealRecs_res = spark.createDataFrame(flatMealRecs)\n",
    "# 字段名称重命名\n",
    "mealRecs_res1 = mealRecs_res.selectExpr('cast(_1 as int) MealID_index','cast(_2 as String) recommend')\n",
    "# 将生成的推荐数据保存到本地\n",
    "mealRecs_res1.toPandas().to_csv('meal10_recommend.csv',index=False,header=None)\n",
    "mealRecs_res1.show()"
   ]
  },
  {
   "cell_type": "code",
   "execution_count": 19,
   "id": "f5628dd0",
   "metadata": {},
   "outputs": [
    {
     "name": "stderr",
     "output_type": "stream",
     "text": [
      "                                                                                \r"
     ]
    },
    {
     "name": "stdout",
     "output_type": "stream",
     "text": [
      "+------------+--------------------+\n",
      "|UserID_Index|     recommendations|\n",
      "+------------+--------------------+\n",
      "|        1580|[{537, 18.912382}...|\n",
      "|        4900|[{1221, 20.750622...|\n",
      "|         471|[{309, 42.54187},...|\n",
      "|        1591|[{779, 16.316833}...|\n",
      "|        4101|[{1192, 6.756077}...|\n",
      "|        1342|[{581, 20.37288},...|\n",
      "|        2122|[{406, 15.569576}...|\n",
      "|        2142|[{1124, 9.330818}...|\n",
      "|         463|[{778, 12.198782}...|\n",
      "|         833|[{819, 45.791084}...|\n",
      "+------------+--------------------+\n",
      "\n"
     ]
    },
    {
     "name": "stderr",
     "output_type": "stream",
     "text": [
      "                                                                                \r"
     ]
    },
    {
     "name": "stdout",
     "output_type": "stream",
     "text": [
      "+------------+--------------------+\n",
      "|MealID_Index|     recommendations|\n",
      "+------------+--------------------+\n",
      "|        1580|[{220, 22.220533}...|\n",
      "|         471|[{599, 33.700294}...|\n",
      "|        1591|[{628, 24.197042}...|\n",
      "|        1342|[{334, 18.154333}...|\n",
      "|         463|[{618, 40.37677},...|\n",
      "|         833|[{269, 43.63918},...|\n",
      "|        1645|[{1306, 37.145927...|\n",
      "|         496|[{628, 53.35273},...|\n",
      "|         148|[{5071, 31.590399...|\n",
      "|        1088|[{378, 35.716015}...|\n",
      "+------------+--------------------+\n",
      "\n"
     ]
    }
   ],
   "source": [
    "# 生成基于用户推荐\n",
    "users = userRecs_res.select(als.getUserCol()).distinct().limit(10)\n",
    "userRecs1 = model.recommendForUserSubset(users, 10)\n",
    "userRecs1.show()\n",
    "# 生成基于菜品推荐\n",
    "items = mealRecs_res1.select(als.getItemCol()).distinct().limit(10)\n",
    "itemRecs1 = model.recommendForItemSubset(items, 10)\n",
    "itemRecs1.show()"
   ]
  },
  {
   "cell_type": "code",
   "execution_count": 26,
   "id": "5d318c0f",
   "metadata": {},
   "outputs": [
    {
     "name": "stderr",
     "output_type": "stream",
     "text": [
      "                                                                                \r"
     ]
    },
    {
     "name": "stdout",
     "output_type": "stream",
     "text": [
      "+------------+--------------------------------------------------------------------------------------------------------------------------------------------------------------------------------------+\n",
      "|UserID_Index|recommendations                                                                                                                                                                       |\n",
      "+------------+--------------------------------------------------------------------------------------------------------------------------------------------------------------------------------------+\n",
      "|2040        |[{582, 16.823814}, {615, 15.252868}, {987, 14.551615}, {527, 13.795489}, {723, 13.7166395}, {381, 12.865194}, {738, 12.762522}, {266, 12.2411175}, {346, 12.165103}, {185, 12.083395}]|\n",
      "+------------+--------------------------------------------------------------------------------------------------------------------------------------------------------------------------------------+\n",
      "\n"
     ]
    },
    {
     "name": "stderr",
     "output_type": "stream",
     "text": [
      "\r",
      "[Stage 779:===============================================>       (65 + 2) / 75]\r",
      "\r",
      "                                                                                \r"
     ]
    }
   ],
   "source": [
    "# 为指定的用户生成十大推荐\n",
    "user_df = spark.createDataFrame([(2040,)],['UserID_Index'])\n",
    "user_recs = model.recommendForUserSubset(user_df,10)\n",
    "user_recs.show(truncate=False)"
   ]
  },
  {
   "cell_type": "code",
   "execution_count": 27,
   "id": "44fd939a",
   "metadata": {},
   "outputs": [
    {
     "name": "stderr",
     "output_type": "stream",
     "text": [
      "[Stage 864:====================================>                  (50 + 1) / 75]\r"
     ]
    },
    {
     "name": "stdout",
     "output_type": "stream",
     "text": [
      "+------------+--------------------------------------------------------------------------------------------------------------------------------------------------------------------------------------+\n",
      "|MealID_Index|recommendations                                                                                                                                                                       |\n",
      "+------------+--------------------------------------------------------------------------------------------------------------------------------------------------------------------------------------+\n",
      "|270         |[{2244, 52.18582}, {236, 48.309452}, {150, 44.473682}, {185, 40.205135}, {1306, 40.040623}, {1572, 37.858982}, {633, 35.818012}, {258, 35.33159}, {315, 34.976032}, {1998, 33.407257}]|\n",
      "+------------+--------------------------------------------------------------------------------------------------------------------------------------------------------------------------------------+\n",
      "\n"
     ]
    },
    {
     "name": "stderr",
     "output_type": "stream",
     "text": [
      "\r",
      "[Stage 864:====================================================>  (72 + 1) / 75]\r",
      "\r",
      "                                                                                \r"
     ]
    }
   ],
   "source": [
    "# 为指定的菜品生成十大用户推荐\n",
    "item_df = spark.createDataFrame([(270,)],['MealID_Index'])\n",
    "item_recs = model.recommendForItemSubset(item_df,10)\n",
    "item_recs.show(truncate=False)"
   ]
  },
  {
   "cell_type": "code",
   "execution_count": 28,
   "id": "4a8477ae",
   "metadata": {},
   "outputs": [
    {
     "name": "stdout",
     "output_type": "stream",
     "text": [
      "root\n",
      " |-- UserID_Index: integer (nullable = false)\n",
      " |-- MealID_Index: integer (nullable = true)\n",
      " |-- Rating: float (nullable = true)\n",
      "\n"
     ]
    },
    {
     "name": "stderr",
     "output_type": "stream",
     "text": [
      "[Stage 878:==================================================>   (94 + 1) / 100]\r"
     ]
    },
    {
     "name": "stdout",
     "output_type": "stream",
     "text": [
      "+------------+------------+----------+\n",
      "|UserID_Index|MealID_Index|    Rating|\n",
      "+------------+------------+----------+\n",
      "|        1580|         537| 18.912382|\n",
      "|        1580|         527| 17.694662|\n",
      "|        1580|         207| 16.767729|\n",
      "|        1580|         269| 16.723392|\n",
      "|        1580|         272| 16.446684|\n",
      "|        1580|         615| 16.297644|\n",
      "|        1580|         917|  15.80331|\n",
      "|        1580|         794|15.6947565|\n",
      "|        1580|        1458| 15.496538|\n",
      "|        1580|         660|  15.44905|\n",
      "|        4900|        1221| 20.750622|\n",
      "|        4900|         309| 19.558342|\n",
      "|        4900|        1411| 17.381104|\n",
      "|        4900|         601|  16.44637|\n",
      "|        4900|         276| 16.399323|\n",
      "|        4900|         702| 15.918576|\n",
      "|        4900|         860| 15.854586|\n",
      "|        4900|         301| 15.675869|\n",
      "|        4900|         799| 15.668298|\n",
      "|        4900|         580| 15.611273|\n",
      "+------------+------------+----------+\n",
      "only showing top 20 rows\n",
      "\n"
     ]
    },
    {
     "name": "stderr",
     "output_type": "stream",
     "text": [
      "\r",
      "[Stage 878:====================================================> (98 + 1) / 100]\r",
      "\r",
      "                                                                                \r"
     ]
    }
   ],
   "source": [
    "# 生成用户对菜品的十大最佳匹配度\n",
    "res_users = userRecs.selectExpr('UserID_Index','explode(recommendations) as mr')\n",
    "res_users1 = res_users.selectExpr('UserID_Index','mr.MealID_Index','mr.Rating')\n",
    "res_users1.printSchema()\n",
    "res_users1.show()"
   ]
  },
  {
   "cell_type": "code",
   "execution_count": 29,
   "id": "b991e8df",
   "metadata": {},
   "outputs": [
    {
     "name": "stdout",
     "output_type": "stream",
     "text": [
      "root\n",
      " |-- MealID_Index: integer (nullable = false)\n",
      " |-- UserID_Index: integer (nullable = true)\n",
      " |-- Rating: float (nullable = true)\n",
      "\n"
     ]
    },
    {
     "name": "stderr",
     "output_type": "stream",
     "text": [
      "[Stage 893:====================================================> (97 + 1) / 100]\r"
     ]
    },
    {
     "name": "stdout",
     "output_type": "stream",
     "text": [
      "+------------+------------+---------+\n",
      "|MealID_Index|UserID_Index|   Rating|\n",
      "+------------+------------+---------+\n",
      "|        1580|         220|22.220533|\n",
      "|        1580|         270|19.966291|\n",
      "|        1580|        1280|18.471401|\n",
      "|        1580|        3229|18.116333|\n",
      "|        1580|         288|17.921606|\n",
      "|        1580|         957|17.637333|\n",
      "|        1580|         661|15.987847|\n",
      "|        1580|        4096|15.082277|\n",
      "|        1580|         345|15.072143|\n",
      "|        1580|        3800|14.999505|\n",
      "|         471|         599|33.700294|\n",
      "|         471|         147|  30.6749|\n",
      "|         471|         175|27.577568|\n",
      "|         471|        5071|27.448143|\n",
      "|         471|          83|26.758818|\n",
      "|         471|         464|26.513725|\n",
      "|         471|         545|  26.4101|\n",
      "|         471|         257|26.145042|\n",
      "|         471|         830|26.033691|\n",
      "|         471|        3800|23.990578|\n",
      "+------------+------------+---------+\n",
      "only showing top 20 rows\n",
      "\n"
     ]
    },
    {
     "name": "stderr",
     "output_type": "stream",
     "text": [
      "\r",
      "                                                                                \r"
     ]
    }
   ],
   "source": [
    "# 生成菜品对用户的十大最佳匹配度\n",
    "res_items = mealRecs.selectExpr('MealID_Index','explode(recommendations) as ur')\n",
    "res_items1 = res_items.selectExpr('MealID_Index','ur.UserID_Index','ur.Rating')\n",
    "res_items1.printSchema()\n",
    "res_items1.show()"
   ]
  },
  {
   "cell_type": "code",
   "execution_count": 45,
   "id": "cad0fa68",
   "metadata": {},
   "outputs": [
    {
     "name": "stderr",
     "output_type": "stream",
     "text": [
      "                                                                                \r"
     ]
    }
   ],
   "source": [
    "# 将推荐结果存放到数据仓库\n",
    "prop = {}\n",
    "prop['user'] = 'root'\n",
    "prop['password'] = 'a'\n",
    "prop['driver'] = 'com.mysql.cj.jdbc.Driver'\n",
    "\n",
    "#生成菜品对用户的十大最佳匹配度写入数据库\n",
    "data_index.write.jdbc('jdbc:mysql://localhost:3306/spark','All_data','overwrite',prop)\n",
    "#将用户评分统计数据写入数据库\n",
    "Rating_stat.write.jdbc('jdbc:mysql://localhost:3306/spark','Rating_count','overwrite',prop)\n",
    "#将菜品平均分统计数据写入数据库\n",
    "sorted_cumulative_ratings.write.jdbc('jdbc:mysql://localhost:3306/spark','avg_Rating','overwrite',prop)\n",
    "#用户对菜品的十大最佳匹配度写入数据库\n",
    "res_users1.write.jdbc('jdbc:mysql://localhost:3306/spark','user_meal','overwrite',prop)\n",
    "#生成菜品对用户的十大最佳匹配度写入数据库\n",
    "res_items1.write.jdbc('jdbc:mysql://localhost:3306/spark','meal_user','overwrite',prop)"
   ]
  },
  {
   "cell_type": "code",
   "execution_count": 25,
   "id": "80d905a5",
   "metadata": {},
   "outputs": [
    {
     "name": "stderr",
     "output_type": "stream",
     "text": [
      "                                                                                \r"
     ]
    },
    {
     "data": {
      "image/png": "[encoded data removed]",
      "text/plain": [
       "<Figure size 600x400 with 1 Axes>"
      ]
     },
     "metadata": {},
     "output_type": "display_data"
    }
   ],
   "source": [
    "import matplotlib.pyplot as plt\n",
    "user_plt = userRecs1.filter(userRecs1['UserID_Index'] == 1580).collect()\n",
    "user_plt = spark.createDataFrame(user_plt[0][1])\n",
    "MealID_Index = user_plt.select('MealID_Index').rdd.flatMap(lambda x:x).collect()\n",
    "Rating = user_plt.select('Rating').rdd.flatMap(lambda x:x).collect()\n",
    "MealID_Index = list(map(str,MealID_Index))\n",
    "plt.rcParams['font.sans-serif'] = ['AR PL UKai CN']\n",
    "plt.figure(figsize=(6,4),dpi=100)\n",
    "plt.xlabel('菜品ID')\n",
    "plt.ylabel('推荐指数')\n",
    "plt.plot(MealID_Index,Rating)\n",
    "plt.show()"
   ]
  },
  {
   "cell_type": "code",
   "execution_count": 42,
   "id": "b7858a72",
   "metadata": {},
   "outputs": [
    {
     "name": "stderr",
     "output_type": "stream",
     "text": [
      "                                                                                \r"
     ]
    },
    {
     "name": "stdout",
     "output_type": "stream",
     "text": [
      "+--------------+------+----------+--------------------+----------+\n",
      "|        UserID|Rating|ReviewTime|              Review|    MealID|\n",
      "+--------------+------+----------+--------------------+----------+\n",
      "|A2WOH395IHGS0T|     5|1496177056|风味独特，真的不错！|B0040HNZTW|\n",
      "|A32KHS0VN0N0HB|     3|1496177108|  有特色，也比较卫生|B006Z48TZS|\n",
      "| A1YQ4Z5U9NIGP|     5|1496177276|    家常美味，推荐！|B00CDBTQCW|\n",
      "|A3E5V5TSTAY3R9|     4|1496179256|                好吃|B00751IYQ4|\n",
      "|A1V50CTTDJ73ZM|     5|1496180009|            不得不赞|B00C0OLT6S|\n",
      "|A3GD8QRS50A6OB|     5|1496180056|    每周必点的一道菜|B006WC63X8|\n",
      "| AK6G2ZYJVQ42D|     5|1496180098|      同事们都很喜欢|B0099JKR6U|\n",
      "|A2FPYIU94BNC73|     5|1496182040|            性价比高|B0087YNHNI|\n",
      "|A2WOH395IHGS0T|     5|1496183065|              有惊喜|B002A493NY|\n",
      "| AM0LNXVIXZKKW|     3|1496184000|            味道一般|B002KGEORM|\n",
      "+--------------+------+----------+--------------------+----------+\n",
      "only showing top 10 rows\n",
      "\n"
     ]
    }
   ],
   "source": [
    "import findspark\n",
    "findspark.init()\n",
    "from pyspark.sql import SparkSession\n",
    "from pyspark.ml.evaluation import RegressionEvaluator\n",
    "from pyspark.ml.recommendation import ALS\n",
    "\n",
    "spark = SparkSession.builder.master('local').appName('user_meal_data').getOrCreate()\n",
    "#读取HDFS数据\n",
    "data = spark.read.format('csv').load(\"/user_meal_data/user_meal_rating.csv\",header=True)\n",
    "#修改字段结构类型\n",
    "data.show(10)"
   ]
  },
  {
   "cell_type": "code",
   "execution_count": 43,
   "id": "2668f252",
   "metadata": {},
   "outputs": [
    {
     "name": "stderr",
     "output_type": "stream",
     "text": [
      "                                                                                \r"
     ]
    },
    {
     "name": "stdout",
     "output_type": "stream",
     "text": [
      "+--------------+------+----------+--------------------+----------+------------+------------+\n",
      "|        UserID|Rating|ReviewTime|              Review|    MealID|MealID_Index|UserID_Index|\n",
      "+--------------+------+----------+--------------------+----------+------------+------------+\n",
      "|A2WOH395IHGS0T|     5|1496177056|风味独特，真的不错！|B0040HNZTW|        57.0|      2749.0|\n",
      "|A32KHS0VN0N0HB|     3|1496177108|  有特色，也比较卫生|B006Z48TZS|        11.0|      4327.0|\n",
      "| A1YQ4Z5U9NIGP|     5|1496177276|    家常美味，推荐！|B00CDBTQCW|         4.0|      2472.0|\n",
      "|A3E5V5TSTAY3R9|     4|1496179256|                好吃|B00751IYQ4|       557.0|      2886.0|\n",
      "|A1V50CTTDJ73ZM|     5|1496180009|            不得不赞|B00C0OLT6S|        28.0|      1161.0|\n",
      "|A3GD8QRS50A6OB|     5|1496180056|    每周必点的一道菜|B006WC63X8|       888.0|       713.0|\n",
      "| AK6G2ZYJVQ42D|     5|1496180098|      同事们都很喜欢|B0099JKR6U|        24.0|      4918.0|\n",
      "|A2FPYIU94BNC73|     5|1496182040|            性价比高|B0087YNHNI|       177.0|      1224.0|\n",
      "|A2WOH395IHGS0T|     5|1496183065|              有惊喜|B002A493NY|       240.0|      2749.0|\n",
      "| AM0LNXVIXZKKW|     3|1496184000|            味道一般|B002KGEORM|       121.0|      4948.0|\n",
      "+--------------+------+----------+--------------------+----------+------------+------------+\n",
      "only showing top 10 rows\n",
      "\n"
     ]
    }
   ],
   "source": [
    "#特征转换\n",
    "from pyspark.ml.feature import StringIndexer\n",
    "indexer = StringIndexer(inputCols=[\"MealID\",\"UserID\"],outputCols=[\"MealID_Index\",\"UserID_Index\"])\n",
    "data_index = indexer.fit(data).transform(data)\n",
    "data_index.show(10)"
   ]
  },
  {
   "cell_type": "code",
   "execution_count": 48,
   "id": "ab138f5d",
   "metadata": {},
   "outputs": [
    {
     "ename": "AnalysisException",
     "evalue": "Table or view not found: All_data; line 1 pos 46;\n'Sort ['sum_rating DESC NULLS LAST], true\n+- 'Aggregate ['mealID], ['MealID, 'SUM('Rating) AS sum_rating#22774]\n   +- 'UnresolvedRelation [All_data], [], false\n",
     "output_type": "error",
     "traceback": [
      "\u001b[0;31m---------------------------------------------------------------------------\u001b[0m",
      "\u001b[0;31mAnalysisException\u001b[0m                         Traceback (most recent call last)",
      "Cell \u001b[0;32mIn [48], line 2\u001b[0m\n\u001b[1;32m      1\u001b[0m \u001b[38;5;66;03m# 分析统计各菜品累积评分\u001b[39;00m\n\u001b[0;32m----> 2\u001b[0m meal_sum \u001b[38;5;241m=\u001b[39m spark\u001b[38;5;241m.\u001b[39msql(\u001b[38;5;124m\"\u001b[39m\u001b[38;5;124mSELECT MealID, SUM(Rating) AS sum_rating FROM All_data GROUP BY mealID ORDER BY sum_rating DESC\u001b[39m\u001b[38;5;124m\"\u001b[39m)\n\u001b[1;32m      3\u001b[0m meal_sum\u001b[38;5;241m.\u001b[39mshow(\u001b[38;5;241m20\u001b[39m)\n",
      "File \u001b[0;32m/opt/spark/python/pyspark/sql/session.py:723\u001b[0m, in \u001b[0;36mSparkSession.sql\u001b[0;34m(self, sqlQuery)\u001b[0m\n\u001b[1;32m    707\u001b[0m \u001b[38;5;28;01mdef\u001b[39;00m \u001b[38;5;21msql\u001b[39m(\u001b[38;5;28mself\u001b[39m, sqlQuery):\n\u001b[1;32m    708\u001b[0m     \u001b[38;5;124;03m\"\"\"Returns a :class:`DataFrame` representing the result of the given query.\u001b[39;00m\n\u001b[1;32m    709\u001b[0m \n\u001b[1;32m    710\u001b[0m \u001b[38;5;124;03m    .. versionadded:: 2.0.0\u001b[39;00m\n\u001b[0;32m   (...)\u001b[0m\n\u001b[1;32m    721\u001b[0m \u001b[38;5;124;03m    [Row(f1=1, f2='row1'), Row(f1=2, f2='row2'), Row(f1=3, f2='row3')]\u001b[39;00m\n\u001b[1;32m    722\u001b[0m \u001b[38;5;124;03m    \"\"\"\u001b[39;00m\n\u001b[0;32m--> 723\u001b[0m     \u001b[38;5;28;01mreturn\u001b[39;00m DataFrame(\u001b[38;5;28;43mself\u001b[39;49m\u001b[38;5;241;43m.\u001b[39;49m\u001b[43m_jsparkSession\u001b[49m\u001b[38;5;241;43m.\u001b[39;49m\u001b[43msql\u001b[49m\u001b[43m(\u001b[49m\u001b[43msqlQuery\u001b[49m\u001b[43m)\u001b[49m, \u001b[38;5;28mself\u001b[39m\u001b[38;5;241m.\u001b[39m_wrapped)\n",
      "File \u001b[0;32m/opt/spark/python/lib/py4j-0.10.9-src.zip/py4j/java_gateway.py:1304\u001b[0m, in \u001b[0;36mJavaMember.__call__\u001b[0;34m(self, *args)\u001b[0m\n\u001b[1;32m   1298\u001b[0m command \u001b[38;5;241m=\u001b[39m proto\u001b[38;5;241m.\u001b[39mCALL_COMMAND_NAME \u001b[38;5;241m+\u001b[39m\\\n\u001b[1;32m   1299\u001b[0m     \u001b[38;5;28mself\u001b[39m\u001b[38;5;241m.\u001b[39mcommand_header \u001b[38;5;241m+\u001b[39m\\\n\u001b[1;32m   1300\u001b[0m     args_command \u001b[38;5;241m+\u001b[39m\\\n\u001b[1;32m   1301\u001b[0m     proto\u001b[38;5;241m.\u001b[39mEND_COMMAND_PART\n\u001b[1;32m   1303\u001b[0m answer \u001b[38;5;241m=\u001b[39m \u001b[38;5;28mself\u001b[39m\u001b[38;5;241m.\u001b[39mgateway_client\u001b[38;5;241m.\u001b[39msend_command(command)\n\u001b[0;32m-> 1304\u001b[0m return_value \u001b[38;5;241m=\u001b[39m \u001b[43mget_return_value\u001b[49m\u001b[43m(\u001b[49m\n\u001b[1;32m   1305\u001b[0m \u001b[43m    \u001b[49m\u001b[43manswer\u001b[49m\u001b[43m,\u001b[49m\u001b[43m \u001b[49m\u001b[38;5;28;43mself\u001b[39;49m\u001b[38;5;241;43m.\u001b[39;49m\u001b[43mgateway_client\u001b[49m\u001b[43m,\u001b[49m\u001b[43m \u001b[49m\u001b[38;5;28;43mself\u001b[39;49m\u001b[38;5;241;43m.\u001b[39;49m\u001b[43mtarget_id\u001b[49m\u001b[43m,\u001b[49m\u001b[43m \u001b[49m\u001b[38;5;28;43mself\u001b[39;49m\u001b[38;5;241;43m.\u001b[39;49m\u001b[43mname\u001b[49m\u001b[43m)\u001b[49m\n\u001b[1;32m   1307\u001b[0m \u001b[38;5;28;01mfor\u001b[39;00m temp_arg \u001b[38;5;129;01min\u001b[39;00m temp_args:\n\u001b[1;32m   1308\u001b[0m     temp_arg\u001b[38;5;241m.\u001b[39m_detach()\n",
      "File \u001b[0;32m/opt/spark/python/pyspark/sql/utils.py:117\u001b[0m, in \u001b[0;36mcapture_sql_exception.<locals>.deco\u001b[0;34m(*a, **kw)\u001b[0m\n\u001b[1;32m    113\u001b[0m converted \u001b[38;5;241m=\u001b[39m convert_exception(e\u001b[38;5;241m.\u001b[39mjava_exception)\n\u001b[1;32m    114\u001b[0m \u001b[38;5;28;01mif\u001b[39;00m \u001b[38;5;129;01mnot\u001b[39;00m \u001b[38;5;28misinstance\u001b[39m(converted, UnknownException):\n\u001b[1;32m    115\u001b[0m     \u001b[38;5;66;03m# Hide where the exception came from that shows a non-Pythonic\u001b[39;00m\n\u001b[1;32m    116\u001b[0m     \u001b[38;5;66;03m# JVM exception message.\u001b[39;00m\n\u001b[0;32m--> 117\u001b[0m     \u001b[38;5;28;01mraise\u001b[39;00m converted \u001b[38;5;28;01mfrom\u001b[39;00m \u001b[38;5;28mNone\u001b[39m\n\u001b[1;32m    118\u001b[0m \u001b[38;5;28;01melse\u001b[39;00m:\n\u001b[1;32m    119\u001b[0m     \u001b[38;5;28;01mraise\u001b[39;00m\n",
      "\u001b[0;31mAnalysisException\u001b[0m: Table or view not found: All_data; line 1 pos 46;\n'Sort ['sum_rating DESC NULLS LAST], true\n+- 'Aggregate ['mealID], ['MealID, 'SUM('Rating) AS sum_rating#22774]\n   +- 'UnresolvedRelation [All_data], [], false\n"
     ]
    }
   ],
   "source": [
    "# 分析统计各菜品累积评分\n",
    "meal_sum = spark.sql(\"SELECT MealID, SUM(Rating) AS sum_rating FROM All_data GROUP BY mealID ORDER BY sum_rating DESC\")\n",
    "meal_sum.show(20)"
   ]
  },
  {
   "cell_type": "code",
   "execution_count": 49,
   "id": "c293d14b",
   "metadata": {},
   "outputs": [
    {
     "ename": "ModuleNotFoundError",
     "evalue": "No module named 'jieba'",
     "output_type": "error",
     "traceback": [
      "\u001b[0;31m---------------------------------------------------------------------------\u001b[0m",
      "\u001b[0;31mModuleNotFoundError\u001b[0m                       Traceback (most recent call last)",
      "Cell \u001b[0;32mIn [49], line 1\u001b[0m\n\u001b[0;32m----> 1\u001b[0m \u001b[38;5;28;01mimport\u001b[39;00m \u001b[38;5;21;01mjieba\u001b[39;00m\n\u001b[1;32m      2\u001b[0m \u001b[38;5;28;01mfrom\u001b[39;00m \u001b[38;5;21;01mpyspark\u001b[39;00m\u001b[38;5;21;01m.\u001b[39;00m\u001b[38;5;21;01msql\u001b[39;00m\u001b[38;5;21;01m.\u001b[39;00m\u001b[38;5;21;01mfunctions\u001b[39;00m \u001b[38;5;28;01mimport\u001b[39;00m udf\n\u001b[1;32m      3\u001b[0m \u001b[38;5;28;01mfrom\u001b[39;00m \u001b[38;5;21;01mpyspark\u001b[39;00m\u001b[38;5;21;01m.\u001b[39;00m\u001b[38;5;21;01msql\u001b[39;00m\u001b[38;5;21;01m.\u001b[39;00m\u001b[38;5;21;01mtypes\u001b[39;00m \u001b[38;5;28;01mimport\u001b[39;00m StringType\n",
      "\u001b[0;31mModuleNotFoundError\u001b[0m: No module named 'jieba'"
     ]
    }
   ],
   "source": [
    "import jieba\n",
    "from pyspark.sql.functions import udf\n",
    "from pyspark.sql.types import StringType\n",
    "from pyecharts import options as opts\n",
    "from pyecharts.charts import WordCloud\n",
    "\n",
    "# 对评价进行分词\n",
    "cut_text_udf = udf(lambda x: \" \".join(jieba.cut(x)), StringType())\n",
    "review_cut = review.select(\"Review\").withColumn(\"cut_text\", cut_text_udf(\"Review\"))\n",
    "\n",
    "# 统计各个词的出现次数\n",
    "word_count = review_cut.rdd.flatMap(lambda x: x[1].split()).map(lambda x: (x, 1)).reduceByKey(lambda a, b: a + b).collect()\n",
    "\n",
    "# 绘制词云图\n",
    "wordcloud = (\n",
    "    WordCloud()\n",
    "    .add(\"\", word_count, word_size_range=[20, 100])\n",
    "    .set_global_opts(title_opts=opts.TitleOpts(title=\"评价词云图\"))\n",
    ")\n",
    "\n",
    "# 输出词云图\n",
    "wordcloud.render(\"/home/hadoop/jupyternotebook/review_wordcloud.html\")"
   ]
  },
  {
   "cell_type": "code",
   "execution_count": 50,
   "id": "5b2920e6",
   "metadata": {},
   "outputs": [
    {
     "name": "stdout",
     "output_type": "stream",
     "text": [
      "Defaulting to user installation because normal site-packages is not writeable\n",
      "Collecting jieba\n",
      "  Downloading jieba-0.42.1.tar.gz (19.2 MB)\n",
      "\u001b[2K     \u001b[38;2;249;38;114m╸\u001b[0m\u001b[38;5;237m━━━━━━━━━━━━━━━━━━━━━━━━━━━━━━━━━━━━━━━\u001b[0m \u001b[32m0.4/19.2 MB\u001b[0m \u001b[31m25.9 kB/s\u001b[0m eta \u001b[36m0:12:09\u001b[0m^C\n",
      "\u001b[2K     \u001b[38;2;249;38;114m╸\u001b[0m\u001b[38;5;237m━━━━━━━━━━━━━━━━━━━━━━━━━━━━━━━━━━━━━━━\u001b[0m \u001b[32m0.4/19.2 MB\u001b[0m \u001b[31m25.9 kB/s\u001b[0m eta \u001b[36m0:12:09\u001b[0m\n",
      "\u001b[?25h\u001b[31mERROR: Operation cancelled by user\u001b[0m\u001b[31m\n",
      "\u001b[0mNote: you may need to restart the kernel to use updated packages.\n"
     ]
    }
   ],
   "source": [
    "pip install jieba"
   ]
  },
  {
   "cell_type": "code",
   "execution_count": null,
   "id": "dd1be144",
   "metadata": {},
   "outputs": [],
   "source": []
  }
 ],
 "metadata": {
  "kernelspec": {
   "display_name": "Python 3 (ipykernel)",
   "language": "python",
   "name": "python3"
  },
  "language_info": {
   "codemirror_mode": {
    "name": "ipython",
    "version": 3
   },
   "file_extension": ".py",
   "mimetype": "text/x-python",
   "name": "python",
   "nbconvert_exporter": "python",
   "pygments_lexer": "ipython3",
   "version": "3.8.10"
  }
 },
 "nbformat": 4,
 "nbformat_minor": 5
}
